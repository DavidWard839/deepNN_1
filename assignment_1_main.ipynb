{
 "cells": [
  {
   "cell_type": "code",
   "execution_count": null,
   "id": "ff0c846f",
   "metadata": {},
   "outputs": [],
   "source": []
  },
  {
   "cell_type": "markdown",
   "id": "8e0d0c1b",
   "metadata": {},
   "source": [
    "Data Exploration: Open Dataset and explore a few example pictures. \n",
    "Data Loader: Data Augmentation,\n",
    "Model Design: Read some articles, find a model to orientate by. Use pre-existing/trained model! Build fine details of what will be important. Keep FC layers small to reduce used parameters, we are looking for local structure. Test different activation functions! What is the loss function we are creating? How are we choosing the optimizer. Include Gradient clipping/ previous layer connection to avoid exploding/vanishing gradients. Try momentum. Use BAtch Normalization (remove bias before), \n",
    "Compare to simple base models, a simple CNN with maybe two hidden layers. Regularization: Data Augmentation, Dropout,?, L2, l1? \n",
    "\n",
    "how does the output need to look like?  Classification of bloodcell type (0-4), cell shape(round, irregular),  Cytoplasm Vacuole (y/n), nucleeus shape (0-5)"
   ]
  }
 ],
 "metadata": {
  "language_info": {
   "name": "python"
  }
 },
 "nbformat": 4,
 "nbformat_minor": 5
}
